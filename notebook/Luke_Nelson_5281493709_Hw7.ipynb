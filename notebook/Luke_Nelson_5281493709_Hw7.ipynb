{
 "cells": [
  {
   "cell_type": "markdown",
   "metadata": {
    "colab_type": "text",
    "id": "EP33ofozSJaW"
   },
   "source": [
    "## Name: Luke Nelson\n",
    "## Student ID: 5281493709"
   ]
  },
  {
   "cell_type": "markdown",
   "metadata": {
    "colab_type": "text",
    "id": "EgAEsV8USaYX"
   },
   "source": [
    "# <center> Homework 7 </center>"
   ]
  },
  {
   "cell_type": "code",
   "execution_count": 2,
   "metadata": {
    "colab": {
     "base_uri": "https://localhost:8080/",
     "height": 71
    },
    "colab_type": "code",
    "id": "_DNbLy98R_r6",
    "outputId": "e11e2be3-b39e-42ad-c370-b4b57f791ec9"
   },
   "outputs": [],
   "source": [
    "import os\n",
    "import random\n",
    "import sys\n",
    "\n",
    "import cv2\n",
    "import keras\n",
    "import matplotlib.pyplot as plt\n",
    "import numpy as np\n",
    "import pandas as pd\n",
    "import scipy as sp\n",
    "import seaborn as sns\n",
    "import tensorflow as tf\n",
    "import tqdm\n",
    "from keras import regularizers\n",
    "from keras.callbacks import ModelCheckpoint\n",
    "from keras.datasets import cifar10\n",
    "from keras.layers import (\n",
    "    Activation,\n",
    "    Conv2D,\n",
    "    Dense,\n",
    "    Dropout,\n",
    "    Flatten,\n",
    "    MaxPooling2D,\n",
    "    Reshape,\n",
    "    Softmax,\n",
    ")\n",
    "from keras.models import Sequential\n",
    "from keras.preprocessing.image import ImageDataGenerator\n",
    "from keras.utils import np_utils\n",
    "from scipy.spatial.distance import euclidean\n",
    "from sklearn.cluster import KMeans\n",
    "from sklearn.metrics import accuracy_score\n",
    "from sklearn.metrics.pairwise import euclidean_distances\n",
    "from sklearn.model_selection import train_test_split\n",
    "from sklearn.neighbors import DistanceMetric\n",
    "from sklearn.preprocessing import LabelEncoder, OneHotEncoder\n",
    "from tensorflow.python.client import device_lib\n",
    "\n",
    "\n",
    "\n",
    "import io\n",
    "import codecs\n",
    "from keras.models import Sequential\n",
    "from keras.layers import LSTM\n",
    "from keras.utils import np_utils\n",
    "import string\n",
    "from string import punctuation\n",
    "import tensorflow as tf\n",
    "#from google.colab import files\n",
    "import urllib.request\n",
    "from sklearn.cluster import KMeans\n",
    "from skimage.color import rgb2gray\n"
   ]
  },
  {
   "cell_type": "markdown",
   "metadata": {
    "colab_type": "text",
    "id": "S8RvB3LDS6dB"
   },
   "source": [
    "### 1. Generative Models for Text"
   ]
  },
  {
   "cell_type": "markdown",
   "metadata": {
    "colab_type": "text",
    "id": "r0ryRhtNS7kB"
   },
   "source": [
    "### (a) In this problem, we are trying to build a generative model to mimic the writing style of prominent British Mathematician, Philosopher, prolific writer, and political activist, Bertrand Russell."
   ]
  },
  {
   "cell_type": "markdown",
   "metadata": {
    "colab_type": "text",
    "id": "c8jixIRuTEBm"
   },
   "source": [
    "### (b) Download the following books from Project Gutenberg in text format:\n",
    "### i. The Problems of Philosophy\n",
    "### ii. The Analysis of Mind\n",
    "### iii. Mysticism and Logic and Other Essays\n",
    "### iv. Our Knowledge of the External World as a Field for Scientific Method in Philosophy\n",
    "### Project Gutenberg adds a standard header and footer to each book and this is not part of the original text. Open the file in a text editor and delete the header and footer.\n",
    "### To have a better model, download the additional 3 books from the library of congress."
   ]
  },
  {
   "cell_type": "markdown",
   "metadata": {
    "colab_type": "text",
    "id": "t6VKewXoUe6k"
   },
   "source": [
    "### (c) LSTM: Train an LSTM to mimic Russell's style and thoughts:"
   ]
  },
  {
   "cell_type": "markdown",
   "metadata": {
    "colab_type": "text",
    "id": "Yk6lMiNvUkOc"
   },
   "source": [
    "### i. Concatenate your text files to create a corpus of Russell's writings."
   ]
  },
  {
   "cell_type": "code",
   "execution_count": 3,
   "metadata": {
    "colab": {
     "base_uri": "https://localhost:8080/",
     "height": 122
    },
    "colab_type": "code",
    "id": "0UwOFgiuuXdT",
    "outputId": "06b103de-fe56-4ead-d8b6-114558a08fc1"
   },
   "outputs": [
    {
     "name": "stdout",
     "output_type": "stream",
     "text": [
      "Go to this URL in a browser: https://accounts.google.com/o/oauth2/auth?client_id=947318989803-6bn6qk8qdgf4n4g3pfee6491hc0brc4i.apps.googleusercontent.com&redirect_uri=urn%3aietf%3awg%3aoauth%3a2.0%3aoob&response_type=code&scope=email%20https%3a%2f%2fwww.googleapis.com%2fauth%2fdocs.test%20https%3a%2f%2fwww.googleapis.com%2fauth%2fdrive%20https%3a%2f%2fwww.googleapis.com%2fauth%2fdrive.photos.readonly%20https%3a%2f%2fwww.googleapis.com%2fauth%2fpeopleapi.readonly\n",
      "\n",
      "Enter your authorization code:\n",
      "··········\n",
      "Mounted at /content/gdrive\n"
     ]
    }
   ],
   "source": [
    "###########MOUNT THE DRIVE##################\n",
    "#from google.colab import drive\n",
    "#drive.mount('/content/gdrive')"
   ]
  },
  {
   "cell_type": "code",
   "execution_count": null,
   "metadata": {
    "colab": {
     "base_uri": "https://localhost:8080/",
     "height": 310,
     "resources": {
      "http://localhost:8080/nbextensions/google.colab/files.js": {
       "data": "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",
       "headers": [
        [
         "content-type",
         "application/javascript"
        ]
       ],
       "ok": true,
       "status": 200,
       "status_text": ""
      }
     }
    },
    "colab_type": "code",
    "id": "rs76doMRaVud",
    "outputId": "aed8bbea-f67a-484a-98fb-017f6aa148da"
   },
   "outputs": [
    {
     "data": {
      "text/html": [
       "\n",
       "     <input type=\"file\" id=\"files-4caa9ee5-7fb7-43b8-8f90-56a78f74ed1f\" name=\"files[]\" multiple disabled\n",
       "        style=\"border:none\" />\n",
       "     <output id=\"result-4caa9ee5-7fb7-43b8-8f90-56a78f74ed1f\">\n",
       "      Upload widget is only available when the cell has been executed in the\n",
       "      current browser session. Please rerun this cell to enable.\n",
       "      </output>\n",
       "      <script src=\"/nbextensions/google.colab/files.js\"></script> "
      ],
      "text/plain": [
       "<IPython.core.display.HTML object>"
      ]
     },
     "metadata": {
      "tags": []
     },
     "output_type": "display_data"
    },
    {
     "name": "stdout",
     "output_type": "stream",
     "text": [
      "Saving Corpus.txt to Corpus.txt\n",
      "Saving AIIMAT.txt to AIIMAT.txt\n",
      "Saving MLOE.txt to MLOE.txt\n",
      "Saving OKEWFSMP.txt to OKEWFSMP.txt\n",
      "Saving TAM.txt to TAM.txt\n",
      "Saving TAMatter.txt to TAMatter.txt\n",
      "Saving THWP.txt to THWP.txt\n",
      "Saving TPP.txt to TPP.txt\n"
     ]
    }
   ],
   "source": [
    "#Upload the book files\n",
    "#uploaded=files.upload()"
   ]
  },
  {
   "cell_type": "markdown",
   "metadata": {
    "colab_type": "text",
    "id": "o9sxC8Ggf3as"
   },
   "source": [
    "#### Note: I used the following commented out code to concatenate the txt files in my jupyter notebook and the resulting concatenated file is titled \"Corpus.txt\" which I have uploaded."
   ]
  },
  {
   "cell_type": "code",
   "execution_count": 21,
   "metadata": {
    "colab": {},
    "colab_type": "code",
    "id": "l8o8ACaWSHo3"
   },
   "outputs": [],
   "source": [
    "#Create filenames\n",
    "fileDir = os.path.dirname(os.path.realpath('__file__'))\n",
    "#files=['../data/Book Files/books/AIIMAT.txt','../data/Book Files/books/MLOE.txt','../data/Book Files/books/OKEWFSMP.txt','../data/Book Files/books/TAM.txt','../data/Book Files/books/TAMatter.txt','../data/Book Files/books/THWP.txt','../data/Book Files/books/TPP.txt']\n",
    "files=['../data/Book Files/books/MLOE.txt','../data/Book Files/books/OKEWFSMP.txt','../data/Book Files/books/TAM.txt','../data/Book Files/books/TPP.txt']\n",
    "filenames=[]\n",
    "for file in files:\n",
    "    filename = os.path.join(fileDir, file)\n",
    "    filename = os.path.abspath(os.path.realpath(filename))\n",
    "    filenames.append(filename)"
   ]
  },
  {
   "cell_type": "code",
   "execution_count": 22,
   "metadata": {
    "colab": {},
    "colab_type": "code",
    "id": "V_aaKbHaSIDY"
   },
   "outputs": [],
   "source": [
    "#Note I'm not including the 3 library of congress files because this is only recommended and TAMatter and THWP for now because they won't open in UTF8\n",
    "#Read in teh files and concatenate\n",
    "\n",
    "#Create Output path\n",
    "fileDir = os.path.dirname(os.path.realpath('__file__'))\n",
    "output_file = os.path.join(fileDir, '../data/Book Files/books/Corpus.txt')\n",
    "output_file = os.path.abspath(os.path.realpath(output_file))\n",
    "\n",
    "\n",
    "with open(output_file, 'w') as outfile:\n",
    "    for fname in filenames:\n",
    "        with open(fname) as infile:\n",
    "            for line in infile:\n",
    "                outfile.write(line)\n",
    "\n",
    "#We now have our corpus of concatenated files\n",
    "corpus= os.path.join(fileDir, '../data/Book Files/books/Corpus.txt')\n",
    "corpus = os.path.abspath(os.path.realpath(corpus))"
   ]
  },
  {
   "cell_type": "code",
   "execution_count": 4,
   "metadata": {
    "colab": {},
    "colab_type": "code",
    "id": "sPVnCKoNSIJ4"
   },
   "outputs": [],
   "source": [
    "#######################Delete this in jupyter############\n",
    "#This is how I open the file in Google Colab\n",
    "#corpus=open('/content/gdrive/My Drive/HW7/Corpus.txt',\"r\")"
   ]
  },
  {
   "cell_type": "code",
   "execution_count": 23,
   "metadata": {},
   "outputs": [],
   "source": [
    "corpus=open(corpus)"
   ]
  },
  {
   "cell_type": "markdown",
   "metadata": {
    "colab_type": "text",
    "id": "qganAC1Mgbpa"
   },
   "source": [
    "### ii. Use a character-level representation for this model by using extended ASCII that has N=256 characters. Each character will be encoded into an integer using its ASCII code. Rescale the integers to the range [0,1], because LSTM uses a sigmoid activation function. LSTM will receive the rescaled integers as its input. "
   ]
  },
  {
   "cell_type": "markdown",
   "metadata": {
    "colab_type": "text",
    "id": "O8t66scDgeLi"
   },
   "source": [
    "#### NOTE: for this question I referenced the following link which served as a great example for how to do LSTM. I directly utilized a number of lines of code from this website: https://machinelearningmastery.com/text-generation-lstm-recurrent-neural-networks-python-keras/"
   ]
  },
  {
   "cell_type": "code",
   "execution_count": 24,
   "metadata": {
    "colab": {
     "base_uri": "https://localhost:8080/",
     "height": 51
    },
    "colab_type": "code",
    "id": "dOvSRE8QSIQd",
    "outputId": "f122e226-11ed-4c59-cbf5-6f8d8774c22f"
   },
   "outputs": [
    {
     "name": "stdout",
     "output_type": "stream",
     "text": [
      "Total Number of Characters:  1507088\n",
      "Total number of unique characters:  73\n"
     ]
    }
   ],
   "source": [
    "#########Change this to what you have in your jupyter notebook###########\n",
    "#Remove punctuation from the file\n",
    "#remove = dict.fromkeys(map(ord, '\\n ' + string.punctuation))\n",
    "\n",
    "#with open(corpus) as inputfile:\n",
    "#    raw_text = inputfile.read().translate(remove)\n",
    "\n",
    "#change corpus to lowercase\n",
    "corpus=corpus.read()\n",
    "raw_text=corpus.lower()\n",
    "\n",
    "raw_text = raw_text.translate(str.maketrans(\"\", \"\", punctuation))\n",
    "raw_text=raw_text.replace(\"\\n\", \"\")\n",
    "raw_text=raw_text.replace(\"\\xa0\", \"\")\n",
    "raw_text=raw_text.replace(\"\\ufeff\", \"\")\n",
    "\n",
    "#Map unique characters to integers\n",
    "chars = sorted(list(set(raw_text)))\n",
    "char_to_int = dict((c, i) for i, c in enumerate(chars))\n",
    "\n",
    "#Summary of what we have so far\n",
    "num_chars = len(raw_text)\n",
    "num_vocab = len(chars)\n",
    "print(\"Total Number of Characters: \", num_chars)\n",
    "print(\"Total number of unique characters: \", num_vocab)"
   ]
  },
  {
   "cell_type": "code",
   "execution_count": 25,
   "metadata": {
    "colab": {
     "base_uri": "https://localhost:8080/",
     "height": 105
    },
    "colab_type": "code",
    "id": "91Qj9fhKSIOK",
    "outputId": "b27652d4-7905-4cec-deda-da40dd4f37a3",
    "scrolled": true
   },
   "outputs": [
    {
     "name": "stdout",
     "output_type": "stream",
     "text": [
      "Here is the dictionary of characters to numbers:\n",
      " {' ': 0, '0': 1, '1': 2, '2': 3, '3': 4, '4': 5, '5': 6, '6': 7, '7': 8, '8': 9, '9': 10, 'a': 11, 'b': 12, 'c': 13, 'd': 14, 'e': 15, 'f': 16, 'g': 17, 'h': 18, 'i': 19, 'j': 20, 'k': 21, 'l': 22, 'm': 23, 'n': 24, 'o': 25, 'p': 26, 'q': 27, 'r': 28, 's': 29, 't': 30, 'u': 31, 'v': 32, 'w': 33, 'x': 34, 'y': 35, 'z': 36, '§': 37, '·': 38, 'â': 39, 'æ': 40, 'è': 41, 'é': 42, 'ë': 43, 'î': 44, 'ï': 45, 'ô': 46, 'ö': 47, 'ü': 48, 'œ': 49, 'ŭ': 50, 'α': 51, 'β': 52, 'γ': 53, 'η': 54, 'θ': 55, 'ι': 56, 'κ': 57, 'λ': 58, 'ν': 59, 'ο': 60, 'π': 61, 'ρ': 62, 'σ': 63, 'τ': 64, 'φ': 65, 'ὴ': 66, 'ή': 67, 'ί': 68, 'ὸ': 69, 'ό': 70, '′': 71, '″': 72}\n",
      "Here is the dictionary of characters rescaled to range [0,1]:\n",
      " {' ': 0.0, '0': 0.013888888888888888, '1': 0.027777777777777776, '2': 0.041666666666666664, '3': 0.05555555555555555, '4': 0.06944444444444445, '5': 0.08333333333333333, '6': 0.09722222222222222, '7': 0.1111111111111111, '8': 0.125, '9': 0.1388888888888889, 'a': 0.1527777777777778, 'b': 0.16666666666666666, 'c': 0.18055555555555555, 'd': 0.19444444444444445, 'e': 0.20833333333333334, 'f': 0.2222222222222222, 'g': 0.2361111111111111, 'h': 0.25, 'i': 0.2638888888888889, 'j': 0.2777777777777778, 'k': 0.2916666666666667, 'l': 0.3055555555555556, 'm': 0.3194444444444444, 'n': 0.3333333333333333, 'o': 0.3472222222222222, 'p': 0.3611111111111111, 'q': 0.375, 'r': 0.3888888888888889, 's': 0.4027777777777778, 't': 0.4166666666666667, 'u': 0.4305555555555556, 'v': 0.4444444444444444, 'w': 0.4583333333333333, 'x': 0.4722222222222222, 'y': 0.4861111111111111, 'z': 0.5, '§': 0.5138888888888888, '·': 0.5277777777777778, 'â': 0.5416666666666666, 'æ': 0.5555555555555556, 'è': 0.5694444444444444, 'é': 0.5833333333333334, 'ë': 0.5972222222222222, 'î': 0.6111111111111112, 'ï': 0.625, 'ô': 0.6388888888888888, 'ö': 0.6527777777777778, 'ü': 0.6666666666666666, 'œ': 0.6805555555555556, 'ŭ': 0.6944444444444444, 'α': 0.7083333333333334, 'β': 0.7222222222222222, 'γ': 0.7361111111111112, 'η': 0.75, 'θ': 0.7638888888888888, 'ι': 0.7777777777777778, 'κ': 0.7916666666666666, 'λ': 0.8055555555555556, 'ν': 0.8194444444444444, 'ο': 0.8333333333333334, 'π': 0.8472222222222222, 'ρ': 0.8611111111111112, 'σ': 0.875, 'τ': 0.8888888888888888, 'φ': 0.9027777777777778, 'ὴ': 0.9166666666666666, 'ή': 0.9305555555555556, 'ί': 0.9444444444444444, 'ὸ': 0.9583333333333334, 'ό': 0.9722222222222222, '′': 0.9861111111111112, '″': 1.0}\n"
     ]
    }
   ],
   "source": [
    "char_to_int_rescaled=dict()\n",
    "for a,b in char_to_int.items():\n",
    "    char_to_int_rescaled[a]=b/(num_vocab-1)\n",
    "\n",
    "#Convert the text to integers and then rescale them to range [0,1]\n",
    "encoded_text = np.array([char_to_int[c] for c in raw_text])\n",
    "\n",
    "print('Here is the dictionary of characters to numbers:\\n',char_to_int)\n",
    "print('Here is the dictionary of characters rescaled to range [0,1]:\\n',char_to_int_rescaled)"
   ]
  },
  {
   "cell_type": "markdown",
   "metadata": {
    "colab_type": "text",
    "id": "vTWD_IAVjP70"
   },
   "source": [
    "### iii. Choose a window size, eg. W=100."
   ]
  },
  {
   "cell_type": "markdown",
   "metadata": {
    "colab_type": "text",
    "id": "rs9vAyhtja6w"
   },
   "source": [
    "#### Answer: for my window size I will be choosing W=100"
   ]
  },
  {
   "cell_type": "markdown",
   "metadata": {
    "colab_type": "text",
    "id": "1bnbOT4tjgnX"
   },
   "source": [
    "### iv. Inputs to the network will be the first W-1=99 characters of each sequence, and the output of the network will be the Wth character of the sequence. ....The second input will be BRAC and the second output will be A, etc."
   ]
  },
  {
   "cell_type": "markdown",
   "metadata": {
    "colab_type": "text",
    "id": "YzChh4vsjgz3"
   },
   "source": [
    "#### Note: I utilized the following code from this website. This function allows us to convert our samples into multipl (input, target) samples:\n",
    "https://machinelearningmastery.com/text-generation-lstm-recurrent-neural-networks-python-keras/"
   ]
  },
  {
   "cell_type": "code",
   "execution_count": 7,
   "metadata": {
    "colab": {
     "base_uri": "https://localhost:8080/",
     "height": 51
    },
    "colab_type": "code",
    "id": "SpP873me8lgw",
    "outputId": "67c325c1-a191-475c-ab0d-aa45a4bc9393"
   },
   "outputs": [
    {
     "name": "stdout",
     "output_type": "stream",
     "text": [
      "Total Patterns:  1506989\n",
      "Window Size: 100\n"
     ]
    }
   ],
   "source": [
    "# prepare the dataset of input to output pairs encoded as integers\n",
    "seq_length = 99\n",
    "dataX = []\n",
    "dataY = []\n",
    "for i in range(0, num_chars - seq_length, 1):\n",
    "    seq_in = raw_text[i:i + seq_length]\n",
    "    seq_out = raw_text[i + seq_length]\n",
    "    dataX.append([char_to_int[char] for char in seq_in])\n",
    "    dataY.append(char_to_int[seq_out])\n",
    "n_patterns = len(dataX)\n",
    "print(\"Total Patterns: \", n_patterns)\n",
    "print('Window Size:',seq_length+1)"
   ]
  },
  {
   "cell_type": "markdown",
   "metadata": {
    "colab_type": "text",
    "id": "obtpoZDhj7nl"
   },
   "source": [
    "### v. Note that the output has to be encoded using a one-hot encoding scheme with N=256 (or less) elements. This means that the network reads integers, but outputs a vector of N=256 (or less) elements."
   ]
  },
  {
   "cell_type": "markdown",
   "metadata": {
    "colab_type": "text",
    "id": "GGfBZkjcj70Q"
   },
   "source": [
    "#### Note: I utilized the following code from this website. This function allows us to convert our samples into multipl (input, target) samples:\n",
    "https://machinelearningmastery.com/text-generation-lstm-recurrent-neural-networks-python-keras/"
   ]
  },
  {
   "cell_type": "code",
   "execution_count": 8,
   "metadata": {
    "colab": {},
    "colab_type": "code",
    "id": "L41hiEgHjFh-"
   },
   "outputs": [],
   "source": [
    "# reshape X to be [samples, time steps, features]\n",
    "X = np.reshape(dataX, (n_patterns, seq_length, 1))\n",
    "# normalize\n",
    "X = X / float(num_vocab)\n",
    "# one hot encode the output variable\n",
    "y = np_utils.to_categorical(dataY)"
   ]
  },
  {
   "cell_type": "markdown",
   "metadata": {
    "colab_type": "text",
    "id": "ICsGaIKKkLua"
   },
   "source": [
    "### vi. Use a single hiddenlayer for the LSTM with N=256 (or less) memory units."
   ]
  },
  {
   "cell_type": "code",
   "execution_count": 9,
   "metadata": {
    "colab": {
     "base_uri": "https://localhost:8080/",
     "height": 255
    },
    "colab_type": "code",
    "id": "lEaYea7BkHID",
    "outputId": "36b6bdcb-44df-4d8c-9097-4b4fab72e5d0"
   },
   "outputs": [
    {
     "name": "stdout",
     "output_type": "stream",
     "text": [
      "Model: \"sequential_1\"\n",
      "_________________________________________________________________\n",
      "Layer (type)                 Output Shape              Param #   \n",
      "=================================================================\n",
      "lstm_1 (LSTM)                (None, 256)               264192    \n",
      "_________________________________________________________________\n",
      "dropout_1 (Dropout)          (None, 256)               0         \n",
      "_________________________________________________________________\n",
      "dense_1 (Dense)              (None, 73)                18761     \n",
      "=================================================================\n",
      "Total params: 282,953\n",
      "Trainable params: 282,953\n",
      "Non-trainable params: 0\n",
      "_________________________________________________________________\n"
     ]
    }
   ],
   "source": [
    "#Build the Model\n",
    "model = Sequential()\n",
    "model.add(LSTM(256, input_shape=(X.shape[1], X.shape[2])))\n",
    "model.add(Dropout(0.2))\n",
    "model.add(Dense(y.shape[1], activation='softmax'))\n",
    "model.compile(loss='categorical_crossentropy', optimizer='adam')\n",
    "\n",
    "model.summary()"
   ]
  },
  {
   "cell_type": "markdown",
   "metadata": {
    "colab_type": "text",
    "id": "ExgQ_G2BkSvL"
   },
   "source": [
    "### vii. Use a Softmax output layer to yield a probability prediction for each of the characters between 0 and 1. This is actually a character classification problem with N classes. Choose log loss (cross entropy) as the objective function for the network (research what it means)."
   ]
  },
  {
   "cell_type": "markdown",
   "metadata": {
    "colab_type": "text",
    "id": "UfuWxDLbkfdK"
   },
   "source": [
    "#### Based on my research on cross entropy, I found this description to be the most informative:\n",
    "\"Cross-entropy loss, or log loss, measures the performance of a classification model whose output is a probability value between 0 and 1. Cross-entropy loss increases as the predicted probability diverges from the actual label. So predicting a probability of .012 when the actual observation label is 1 would be bad and result in a high loss value. A perfect model would have a log loss of 0.<br>\n",
    "As the predicted probability approaches 1, log loss slowly decreases. As the predicted probability decreases, however, the log loss increases rapidly. Log loss penalizes both types of errors, but especially those predictions that are confident and wrong!\n",
    "<br>\n",
    "Cross-entropy and log loss are slightly different depending on context, but in machine learning when calculating error rates between 0 and 1 they resolve to the same thing.\"\n",
    "#### I pulled this snippet from the following source:\n",
    "https://ml-cheatsheet.readthedocs.io/en/latest/loss_functions.html#:~:text=Cross%2Dentropy%20loss%2C%20or%20log,diverges%20from%20the%20actual%20label.&text=As%20the%20predicted%20probability%20decreases,the%20log%20loss%20increases%20rapidly."
   ]
  },
  {
   "cell_type": "markdown",
   "metadata": {
    "colab_type": "text",
    "id": "AK9SmyQa04PU"
   },
   "source": [
    "### viii. We do not use a test dataset. We are using the whole training dataset to learn the probability of each character in a sequence. We are not seeking for a very accurate model. Instead we are interested in a generalization of the dataset that can mimic the gist of the text."
   ]
  },
  {
   "cell_type": "markdown",
   "metadata": {
    "colab_type": "text",
    "id": "Wr6kCx3t08Uf"
   },
   "source": [
    "### ix. Choose a reasonable number of epochs for training, consider your computational power (e.g. 30, although the network will need more epochs to yield a better model)."
   ]
  },
  {
   "cell_type": "markdown",
   "metadata": {
    "colab_type": "text",
    "id": "6HtpEkxmlrs3"
   },
   "source": [
    "#### I have chosen to use 10 epochs"
   ]
  },
  {
   "cell_type": "markdown",
   "metadata": {
    "colab_type": "text",
    "id": "C6JDHqII1Hdv"
   },
   "source": [
    "### x. Use model checkpointing to keep the network weights to determine each time an improvement in loss is observed at the end of the epoch. Find the best set of weights in terms of loss."
   ]
  },
  {
   "cell_type": "code",
   "execution_count": 12,
   "metadata": {
    "colab": {},
    "colab_type": "code",
    "id": "dcXz2BqG3sVv"
   },
   "outputs": [],
   "source": [
    "# define the checkpoint\n",
    "fileDir = os.path.dirname(os.path.realpath('__file__'))\n",
    "filepath = os.path.join(fileDir, '../data/results/weights-improvement-{epoch:02d}-{loss:.4f}.hdf5')\n",
    "filepath = os.path.abspath(os.path.realpath(filepath))\n",
    "\n",
    "#filepath=\"/content/gdrive/My Drive/HW7/weights-improvement-{epoch:02d}-{loss:.4f}.hdf5\"\n",
    "checkpoint = ModelCheckpoint(filepath, monitor='loss', verbose=1, save_best_only=True, mode='min')\n",
    "callbacks_list = [checkpoint]"
   ]
  },
  {
   "cell_type": "code",
   "execution_count": 13,
   "metadata": {
    "colab": {
     "base_uri": "https://localhost:8080/",
     "height": 731
    },
    "colab_type": "code",
    "id": "hPGzfR6H49QN",
    "outputId": "3f37ad94-5b79-4ec6-d320-65c022ace793"
   },
   "outputs": [
    {
     "name": "stdout",
     "output_type": "stream",
     "text": [
      "Epoch 1/30\n",
      "1506989/1506989 [==============================] - 1391s 923us/step - loss: 1.9413\n",
      "\n",
      "Epoch 00001: loss improved from inf to 1.94132, saving model to /content/gdrive/My Drive/HW7/weights-improvement-01-1.9413.hdf5\n",
      "Epoch 2/30\n",
      "1506989/1506989 [==============================] - 1383s 918us/step - loss: 1.9624\n",
      "\n",
      "Epoch 00002: loss did not improve from 1.94132\n",
      "Epoch 3/30\n",
      "1506989/1506989 [==============================] - 1385s 919us/step - loss: 1.8853\n",
      "\n",
      "Epoch 00003: loss improved from 1.94132 to 1.88534, saving model to /content/gdrive/My Drive/HW7/weights-improvement-03-1.8853.hdf5\n",
      "Epoch 4/30\n",
      "1506989/1506989 [==============================] - 1398s 928us/step - loss: 1.8750\n",
      "\n",
      "Epoch 00004: loss improved from 1.88534 to 1.87498, saving model to /content/gdrive/My Drive/HW7/weights-improvement-04-1.8750.hdf5\n",
      "Epoch 5/30\n",
      "1506989/1506989 [==============================] - 1385s 919us/step - loss: 1.8607\n",
      "\n",
      "Epoch 00005: loss improved from 1.87498 to 1.86067, saving model to /content/gdrive/My Drive/HW7/weights-improvement-05-1.8607.hdf5\n",
      "Epoch 6/30\n",
      "1506989/1506989 [==============================] - 1383s 918us/step - loss: 1.8459\n",
      "\n",
      "Epoch 00006: loss improved from 1.86067 to 1.84593, saving model to /content/gdrive/My Drive/HW7/weights-improvement-06-1.8459.hdf5\n",
      "Epoch 7/30\n",
      "1506989/1506989 [==============================] - 1414s 939us/step - loss: 1.8313\n",
      "\n",
      "Epoch 00007: loss improved from 1.84593 to 1.83130, saving model to /content/gdrive/My Drive/HW7/weights-improvement-07-1.8313.hdf5\n",
      "Epoch 8/30\n",
      "1506989/1506989 [==============================] - 1389s 922us/step - loss: 1.8191\n",
      "\n",
      "Epoch 00008: loss improved from 1.83130 to 1.81913, saving model to /content/gdrive/My Drive/HW7/weights-improvement-08-1.8191.hdf5\n",
      "Epoch 9/30\n",
      "1506989/1506989 [==============================] - 1407s 934us/step - loss: 1.8077\n",
      "\n",
      "Epoch 00009: loss improved from 1.81913 to 1.80772, saving model to /content/gdrive/My Drive/HW7/weights-improvement-09-1.8077.hdf5\n",
      "Epoch 10/30\n",
      "1506989/1506989 [==============================] - 1419s 942us/step - loss: 1.7973\n",
      "\n",
      "Epoch 00010: loss improved from 1.80772 to 1.79731, saving model to /content/gdrive/My Drive/HW7/weights-improvement-10-1.7973.hdf5\n",
      "Epoch 11/30\n",
      " 430848/1506989 [=======>......................] - ETA: 16:47 - loss: 1.7861Buffered data was truncated after reaching the output size limit."
     ]
    }
   ],
   "source": [
    "#Fit the model with 10 epochs\n",
    "model.fit(X, y, epochs=10, batch_size=256, callbacks=callbacks_list)"
   ]
  },
  {
   "cell_type": "markdown",
   "metadata": {
    "colab_type": "text",
    "id": "Ub3LrM6i0rIQ"
   },
   "source": [
    "#### I decided to go with 10 epochs because doing any more caused the google collab gpus to time out. Note: the file with the lowest error has been included in my data/results folder as follows. This is the file I have uploaded to read the weights: /data/results/weights-improvement-10-1.7973.hdf5\n",
    "\n"
   ]
  },
  {
   "cell_type": "code",
   "execution_count": 14,
   "metadata": {
    "colab": {},
    "colab_type": "code",
    "id": "5_ZyU2XqmC-b"
   },
   "outputs": [],
   "source": [
    "#Try to predict text noww\n",
    "# load the network weights\n",
    "fileDir = os.path.dirname(os.path.realpath('__file__'))\n",
    "filename = os.path.join(fileDir, '../data/results/weights-improvement-10-1.7973.hdf5')\n",
    "filename = os.path.abspath(os.path.realpath(filename))\n",
    "\n",
    "\n",
    "\n",
    "#filename = \"/content/gdrive/My Drive/HW7/weights-improvement-10-1.7973.hdf5\"\n",
    "model.load_weights(filename)\n",
    "model.compile(loss='categorical_crossentropy', optimizer='adam')"
   ]
  },
  {
   "cell_type": "code",
   "execution_count": 15,
   "metadata": {
    "colab": {
     "base_uri": "https://localhost:8080/",
     "height": 71
    },
    "colab_type": "code",
    "id": "Z2zm_lISmDVa",
    "outputId": "e6c7d852-7e8b-4ffb-b7bd-338463ce6c80"
   },
   "outputs": [
    {
     "name": "stdout",
     "output_type": "stream",
     "text": [
      "Generated Text:\n",
      " which is the sense and the sense and the sense and the sense and the sense and the sense and the sense and the sense and the sense and the sense and the sense and the sense and the sense and the sense and the sense and the sense and the sense and the sense and the sense and the sense and the sense and the sense and the sense and the sense and the sense and the sense and the sense and the sense and the sense and the sense and the sense and the sense and the sense and the sense and the sense and the sense and the sense and the sense and the sense and the sense and the sense and the sense and the sense and the sense and the sense and the sense and the sense and the sense and the sense and the sense and the sense and the sense and the sense and the sense and the sense and the sense and the sense and the sense and the sense and the sense and the sense and the sense and the sense and the sense and the sense and the sense and the sense and the sense and the sense and the sense and the sense "
     ]
    }
   ],
   "source": [
    "#Generate the text\n",
    "int_to_char = dict((i, c) for i, c in enumerate(chars))\n",
    "\n",
    "seed = \"There are those who take mental phenomena naively, just as they would physical phenomena. This school of psychologists tends not to emphasize the object.\"\n",
    "\n",
    "#Translate seed to integers\n",
    "seed=seed.lower()\n",
    "seed = seed.translate(str.maketrans(\"\", \"\", punctuation))\n",
    "seed_ints=[]\n",
    "seed_ints.append([char_to_int[char] for char in seed])\n",
    "seed_ints=seed_ints[0]\n",
    "\n",
    "print('Generated Text:')\n",
    "# generate characters\n",
    "for i in range(1000):\n",
    "    x = np.reshape(seed_ints, (1, len(seed_ints), 1))\n",
    "    x = x / float(num_vocab)\n",
    "    x = x[0][-99:]\n",
    "    x = np.reshape(x,(1,99,1))\n",
    "    prediction = model.predict(x, verbose=0)\n",
    "    index = np.argmax(prediction)\n",
    "    result = int_to_char[index]\n",
    "    seq_in = [int_to_char[value] for value in seed_ints]\n",
    "    sys.stdout.write(result)\n",
    "    seed_ints.append(index)\n",
    "    seed_ints = seed_ints[1:len(seed_ints)]"
   ]
  },
  {
   "cell_type": "markdown",
   "metadata": {
    "colab_type": "text",
    "id": "lBnH90y-3a6T"
   },
   "source": [
    "# QUESTION 2"
   ]
  },
  {
   "cell_type": "markdown",
   "metadata": {
    "colab_type": "text",
    "id": "Jkp6ojbi3eAP"
   },
   "source": [
    "### 2. (Deep) CNN for Image Colorization"
   ]
  },
  {
   "cell_type": "markdown",
   "metadata": {
    "colab_type": "text",
    "id": "00_tICZR3ng-"
   },
   "source": [
    "### (a) This assignment uses a convolutional neural network for image colorization which turns a grayscale image to a colored image. By converting an image to grayscale, we loose color information, so converting a grayscale image back to a colored version is not an easy job. We will use the CIFAR-10 dataset. Download the dataset."
   ]
  },
  {
   "cell_type": "code",
   "execution_count": 1,
   "metadata": {
    "colab": {
     "base_uri": "https://localhost:8080/",
     "height": 34
    },
    "colab_type": "code",
    "id": "SfUngChZ6Ekt",
    "outputId": "4fa0de47-27bf-4269-d075-bf68ebcfee32"
   },
   "outputs": [
    {
     "name": "stderr",
     "output_type": "stream",
     "text": [
      "Using TensorFlow backend.\n"
     ]
    }
   ],
   "source": [
    "from keras.datasets import cifar10\n",
    "#For info on the dataset check here: http://www.cs.toronto.edu/~kriz/cifar.html"
   ]
  },
  {
   "cell_type": "code",
   "execution_count": 2,
   "metadata": {
    "colab": {
     "base_uri": "https://localhost:8080/",
     "height": 1000
    },
    "colab_type": "code",
    "id": "Bh1WcTq43dJe",
    "outputId": "02deb577-827a-48c8-c60f-96e2c509b433"
   },
   "outputs": [
    {
     "name": "stdout",
     "output_type": "stream",
     "text": [
      "Downloading data from https://www.cs.toronto.edu/~kriz/cifar-10-python.tar.gz\n",
      "170500096/170498071 [==============================] - 6s 0us/step\n"
     ]
    },
    {
     "data": {
      "text/plain": [
       "((array([[[[ 59,  62,  63],\n",
       "           [ 43,  46,  45],\n",
       "           [ 50,  48,  43],\n",
       "           ...,\n",
       "           [158, 132, 108],\n",
       "           [152, 125, 102],\n",
       "           [148, 124, 103]],\n",
       "  \n",
       "          [[ 16,  20,  20],\n",
       "           [  0,   0,   0],\n",
       "           [ 18,   8,   0],\n",
       "           ...,\n",
       "           [123,  88,  55],\n",
       "           [119,  83,  50],\n",
       "           [122,  87,  57]],\n",
       "  \n",
       "          [[ 25,  24,  21],\n",
       "           [ 16,   7,   0],\n",
       "           [ 49,  27,   8],\n",
       "           ...,\n",
       "           [118,  84,  50],\n",
       "           [120,  84,  50],\n",
       "           [109,  73,  42]],\n",
       "  \n",
       "          ...,\n",
       "  \n",
       "          [[208, 170,  96],\n",
       "           [201, 153,  34],\n",
       "           [198, 161,  26],\n",
       "           ...,\n",
       "           [160, 133,  70],\n",
       "           [ 56,  31,   7],\n",
       "           [ 53,  34,  20]],\n",
       "  \n",
       "          [[180, 139,  96],\n",
       "           [173, 123,  42],\n",
       "           [186, 144,  30],\n",
       "           ...,\n",
       "           [184, 148,  94],\n",
       "           [ 97,  62,  34],\n",
       "           [ 83,  53,  34]],\n",
       "  \n",
       "          [[177, 144, 116],\n",
       "           [168, 129,  94],\n",
       "           [179, 142,  87],\n",
       "           ...,\n",
       "           [216, 184, 140],\n",
       "           [151, 118,  84],\n",
       "           [123,  92,  72]]],\n",
       "  \n",
       "  \n",
       "         [[[154, 177, 187],\n",
       "           [126, 137, 136],\n",
       "           [105, 104,  95],\n",
       "           ...,\n",
       "           [ 91,  95,  71],\n",
       "           [ 87,  90,  71],\n",
       "           [ 79,  81,  70]],\n",
       "  \n",
       "          [[140, 160, 169],\n",
       "           [145, 153, 154],\n",
       "           [125, 125, 118],\n",
       "           ...,\n",
       "           [ 96,  99,  78],\n",
       "           [ 77,  80,  62],\n",
       "           [ 71,  73,  61]],\n",
       "  \n",
       "          [[140, 155, 164],\n",
       "           [139, 146, 149],\n",
       "           [115, 115, 112],\n",
       "           ...,\n",
       "           [ 79,  82,  64],\n",
       "           [ 68,  70,  55],\n",
       "           [ 67,  69,  55]],\n",
       "  \n",
       "          ...,\n",
       "  \n",
       "          [[175, 167, 166],\n",
       "           [156, 154, 160],\n",
       "           [154, 160, 170],\n",
       "           ...,\n",
       "           [ 42,  34,  36],\n",
       "           [ 61,  53,  57],\n",
       "           [ 93,  83,  91]],\n",
       "  \n",
       "          [[165, 154, 128],\n",
       "           [156, 152, 130],\n",
       "           [159, 161, 142],\n",
       "           ...,\n",
       "           [103,  93,  96],\n",
       "           [123, 114, 120],\n",
       "           [131, 121, 131]],\n",
       "  \n",
       "          [[163, 148, 120],\n",
       "           [158, 148, 122],\n",
       "           [163, 156, 133],\n",
       "           ...,\n",
       "           [143, 133, 139],\n",
       "           [143, 134, 142],\n",
       "           [143, 133, 144]]],\n",
       "  \n",
       "  \n",
       "         [[[255, 255, 255],\n",
       "           [253, 253, 253],\n",
       "           [253, 253, 253],\n",
       "           ...,\n",
       "           [253, 253, 253],\n",
       "           [253, 253, 253],\n",
       "           [253, 253, 253]],\n",
       "  \n",
       "          [[255, 255, 255],\n",
       "           [255, 255, 255],\n",
       "           [255, 255, 255],\n",
       "           ...,\n",
       "           [255, 255, 255],\n",
       "           [255, 255, 255],\n",
       "           [255, 255, 255]],\n",
       "  \n",
       "          [[255, 255, 255],\n",
       "           [254, 254, 254],\n",
       "           [254, 254, 254],\n",
       "           ...,\n",
       "           [254, 254, 254],\n",
       "           [254, 254, 254],\n",
       "           [254, 254, 254]],\n",
       "  \n",
       "          ...,\n",
       "  \n",
       "          [[113, 120, 112],\n",
       "           [111, 118, 111],\n",
       "           [105, 112, 106],\n",
       "           ...,\n",
       "           [ 72,  81,  80],\n",
       "           [ 72,  80,  79],\n",
       "           [ 72,  80,  79]],\n",
       "  \n",
       "          [[111, 118, 110],\n",
       "           [104, 111, 104],\n",
       "           [ 99, 106,  98],\n",
       "           ...,\n",
       "           [ 68,  75,  73],\n",
       "           [ 70,  76,  75],\n",
       "           [ 78,  84,  82]],\n",
       "  \n",
       "          [[106, 113, 105],\n",
       "           [ 99, 106,  98],\n",
       "           [ 95, 102,  94],\n",
       "           ...,\n",
       "           [ 78,  85,  83],\n",
       "           [ 79,  85,  83],\n",
       "           [ 80,  86,  84]]],\n",
       "  \n",
       "  \n",
       "         ...,\n",
       "  \n",
       "  \n",
       "         [[[ 35, 178, 235],\n",
       "           [ 40, 176, 239],\n",
       "           [ 42, 176, 241],\n",
       "           ...,\n",
       "           [ 99, 177, 219],\n",
       "           [ 79, 147, 197],\n",
       "           [ 89, 148, 189]],\n",
       "  \n",
       "          [[ 57, 182, 234],\n",
       "           [ 44, 184, 250],\n",
       "           [ 50, 183, 240],\n",
       "           ...,\n",
       "           [156, 182, 200],\n",
       "           [141, 177, 206],\n",
       "           [116, 149, 175]],\n",
       "  \n",
       "          [[ 98, 197, 237],\n",
       "           [ 64, 189, 252],\n",
       "           [ 69, 192, 245],\n",
       "           ...,\n",
       "           [188, 195, 206],\n",
       "           [119, 135, 147],\n",
       "           [ 61,  79,  90]],\n",
       "  \n",
       "          ...,\n",
       "  \n",
       "          [[ 73,  79,  77],\n",
       "           [ 53,  63,  68],\n",
       "           [ 54,  68,  80],\n",
       "           ...,\n",
       "           [ 17,  40,  64],\n",
       "           [ 21,  36,  51],\n",
       "           [ 33,  48,  49]],\n",
       "  \n",
       "          [[ 61,  68,  75],\n",
       "           [ 55,  70,  86],\n",
       "           [ 57,  79, 103],\n",
       "           ...,\n",
       "           [ 24,  48,  72],\n",
       "           [ 17,  35,  53],\n",
       "           [  7,  23,  32]],\n",
       "  \n",
       "          [[ 44,  56,  73],\n",
       "           [ 46,  66,  88],\n",
       "           [ 49,  77, 105],\n",
       "           ...,\n",
       "           [ 27,  52,  77],\n",
       "           [ 21,  43,  66],\n",
       "           [ 12,  31,  50]]],\n",
       "  \n",
       "  \n",
       "         [[[189, 211, 240],\n",
       "           [186, 208, 236],\n",
       "           [185, 207, 235],\n",
       "           ...,\n",
       "           [175, 195, 224],\n",
       "           [172, 194, 222],\n",
       "           [169, 194, 220]],\n",
       "  \n",
       "          [[194, 210, 239],\n",
       "           [191, 207, 236],\n",
       "           [190, 206, 235],\n",
       "           ...,\n",
       "           [173, 192, 220],\n",
       "           [171, 191, 218],\n",
       "           [167, 190, 216]],\n",
       "  \n",
       "          [[208, 219, 244],\n",
       "           [205, 216, 240],\n",
       "           [204, 215, 239],\n",
       "           ...,\n",
       "           [175, 191, 217],\n",
       "           [172, 190, 216],\n",
       "           [169, 191, 215]],\n",
       "  \n",
       "          ...,\n",
       "  \n",
       "          [[207, 199, 181],\n",
       "           [203, 195, 175],\n",
       "           [203, 196, 173],\n",
       "           ...,\n",
       "           [135, 132, 127],\n",
       "           [162, 158, 150],\n",
       "           [168, 163, 151]],\n",
       "  \n",
       "          [[198, 190, 170],\n",
       "           [189, 181, 159],\n",
       "           [180, 172, 147],\n",
       "           ...,\n",
       "           [178, 171, 160],\n",
       "           [175, 169, 156],\n",
       "           [175, 169, 154]],\n",
       "  \n",
       "          [[198, 189, 173],\n",
       "           [189, 181, 162],\n",
       "           [178, 170, 149],\n",
       "           ...,\n",
       "           [195, 184, 169],\n",
       "           [196, 189, 171],\n",
       "           [195, 190, 171]]],\n",
       "  \n",
       "  \n",
       "         [[[229, 229, 239],\n",
       "           [236, 237, 247],\n",
       "           [234, 236, 247],\n",
       "           ...,\n",
       "           [217, 219, 233],\n",
       "           [221, 223, 234],\n",
       "           [222, 223, 233]],\n",
       "  \n",
       "          [[222, 221, 229],\n",
       "           [239, 239, 249],\n",
       "           [233, 234, 246],\n",
       "           ...,\n",
       "           [223, 223, 236],\n",
       "           [227, 228, 238],\n",
       "           [210, 211, 220]],\n",
       "  \n",
       "          [[213, 206, 211],\n",
       "           [234, 232, 239],\n",
       "           [231, 233, 244],\n",
       "           ...,\n",
       "           [220, 220, 232],\n",
       "           [220, 219, 232],\n",
       "           [202, 203, 215]],\n",
       "  \n",
       "          ...,\n",
       "  \n",
       "          [[150, 143, 135],\n",
       "           [140, 135, 127],\n",
       "           [132, 127, 120],\n",
       "           ...,\n",
       "           [224, 222, 218],\n",
       "           [230, 228, 225],\n",
       "           [241, 241, 238]],\n",
       "  \n",
       "          [[137, 132, 126],\n",
       "           [130, 127, 120],\n",
       "           [125, 121, 115],\n",
       "           ...,\n",
       "           [181, 180, 178],\n",
       "           [202, 201, 198],\n",
       "           [212, 211, 207]],\n",
       "  \n",
       "          [[122, 119, 114],\n",
       "           [118, 116, 110],\n",
       "           [120, 116, 111],\n",
       "           ...,\n",
       "           [179, 177, 173],\n",
       "           [164, 164, 162],\n",
       "           [163, 163, 161]]]], dtype=uint8), array([[6],\n",
       "         [9],\n",
       "         [9],\n",
       "         ...,\n",
       "         [9],\n",
       "         [1],\n",
       "         [1]], dtype=uint8)), (array([[[[158, 112,  49],\n",
       "           [159, 111,  47],\n",
       "           [165, 116,  51],\n",
       "           ...,\n",
       "           [137,  95,  36],\n",
       "           [126,  91,  36],\n",
       "           [116,  85,  33]],\n",
       "  \n",
       "          [[152, 112,  51],\n",
       "           [151, 110,  40],\n",
       "           [159, 114,  45],\n",
       "           ...,\n",
       "           [136,  95,  31],\n",
       "           [125,  91,  32],\n",
       "           [119,  88,  34]],\n",
       "  \n",
       "          [[151, 110,  47],\n",
       "           [151, 109,  33],\n",
       "           [158, 111,  36],\n",
       "           ...,\n",
       "           [139,  98,  34],\n",
       "           [130,  95,  34],\n",
       "           [120,  89,  33]],\n",
       "  \n",
       "          ...,\n",
       "  \n",
       "          [[ 68, 124, 177],\n",
       "           [ 42, 100, 148],\n",
       "           [ 31,  88, 137],\n",
       "           ...,\n",
       "           [ 38,  97, 146],\n",
       "           [ 13,  64, 108],\n",
       "           [ 40,  85, 127]],\n",
       "  \n",
       "          [[ 61, 116, 168],\n",
       "           [ 49, 102, 148],\n",
       "           [ 35,  85, 132],\n",
       "           ...,\n",
       "           [ 26,  82, 130],\n",
       "           [ 29,  82, 126],\n",
       "           [ 20,  64, 107]],\n",
       "  \n",
       "          [[ 54, 107, 160],\n",
       "           [ 56, 105, 149],\n",
       "           [ 45,  89, 132],\n",
       "           ...,\n",
       "           [ 24,  77, 124],\n",
       "           [ 34,  84, 129],\n",
       "           [ 21,  67, 110]]],\n",
       "  \n",
       "  \n",
       "         [[[235, 235, 235],\n",
       "           [231, 231, 231],\n",
       "           [232, 232, 232],\n",
       "           ...,\n",
       "           [233, 233, 233],\n",
       "           [233, 233, 233],\n",
       "           [232, 232, 232]],\n",
       "  \n",
       "          [[238, 238, 238],\n",
       "           [235, 235, 235],\n",
       "           [235, 235, 235],\n",
       "           ...,\n",
       "           [236, 236, 236],\n",
       "           [236, 236, 236],\n",
       "           [235, 235, 235]],\n",
       "  \n",
       "          [[237, 237, 237],\n",
       "           [234, 234, 234],\n",
       "           [234, 234, 234],\n",
       "           ...,\n",
       "           [235, 235, 235],\n",
       "           [235, 235, 235],\n",
       "           [234, 234, 234]],\n",
       "  \n",
       "          ...,\n",
       "  \n",
       "          [[ 87,  99,  89],\n",
       "           [ 43,  51,  37],\n",
       "           [ 19,  23,  11],\n",
       "           ...,\n",
       "           [169, 184, 179],\n",
       "           [182, 197, 193],\n",
       "           [188, 202, 201]],\n",
       "  \n",
       "          [[ 82,  96,  82],\n",
       "           [ 46,  57,  36],\n",
       "           [ 36,  44,  22],\n",
       "           ...,\n",
       "           [174, 189, 183],\n",
       "           [185, 200, 196],\n",
       "           [187, 202, 200]],\n",
       "  \n",
       "          [[ 85, 101,  83],\n",
       "           [ 62,  75,  48],\n",
       "           [ 58,  67,  38],\n",
       "           ...,\n",
       "           [168, 183, 178],\n",
       "           [180, 195, 191],\n",
       "           [186, 200, 199]]],\n",
       "  \n",
       "  \n",
       "         [[[158, 190, 222],\n",
       "           [158, 187, 218],\n",
       "           [139, 166, 194],\n",
       "           ...,\n",
       "           [228, 231, 234],\n",
       "           [237, 239, 243],\n",
       "           [238, 241, 246]],\n",
       "  \n",
       "          [[170, 200, 229],\n",
       "           [172, 199, 226],\n",
       "           [151, 176, 201],\n",
       "           ...,\n",
       "           [232, 232, 236],\n",
       "           [246, 246, 250],\n",
       "           [246, 247, 251]],\n",
       "  \n",
       "          [[174, 201, 225],\n",
       "           [176, 200, 222],\n",
       "           [157, 179, 199],\n",
       "           ...,\n",
       "           [230, 229, 232],\n",
       "           [250, 249, 251],\n",
       "           [245, 244, 247]],\n",
       "  \n",
       "          ...,\n",
       "  \n",
       "          [[ 31,  40,  45],\n",
       "           [ 30,  39,  44],\n",
       "           [ 26,  35,  40],\n",
       "           ...,\n",
       "           [ 37,  40,  46],\n",
       "           [  9,  13,  14],\n",
       "           [  4,   7,   5]],\n",
       "  \n",
       "          [[ 23,  34,  39],\n",
       "           [ 27,  38,  43],\n",
       "           [ 25,  36,  41],\n",
       "           ...,\n",
       "           [ 19,  20,  24],\n",
       "           [  4,   6,   3],\n",
       "           [  5,   7,   3]],\n",
       "  \n",
       "          [[ 28,  41,  47],\n",
       "           [ 30,  43,  50],\n",
       "           [ 32,  45,  52],\n",
       "           ...,\n",
       "           [  5,   6,   8],\n",
       "           [  4,   5,   3],\n",
       "           [  7,   8,   7]]],\n",
       "  \n",
       "  \n",
       "         ...,\n",
       "  \n",
       "  \n",
       "         [[[ 20,  15,  12],\n",
       "           [ 19,  14,  11],\n",
       "           [ 15,  14,  11],\n",
       "           ...,\n",
       "           [ 10,   9,   7],\n",
       "           [ 12,  11,   9],\n",
       "           [ 13,  12,  10]],\n",
       "  \n",
       "          [[ 21,  16,  13],\n",
       "           [ 20,  16,  13],\n",
       "           [ 18,  17,  12],\n",
       "           ...,\n",
       "           [ 10,   9,   7],\n",
       "           [ 10,   9,   7],\n",
       "           [ 12,  11,   9]],\n",
       "  \n",
       "          [[ 21,  16,  13],\n",
       "           [ 21,  17,  12],\n",
       "           [ 20,  18,  11],\n",
       "           ...,\n",
       "           [ 12,  11,   9],\n",
       "           [ 12,  11,   9],\n",
       "           [ 13,  12,  10]],\n",
       "  \n",
       "          ...,\n",
       "  \n",
       "          [[ 33,  25,  13],\n",
       "           [ 34,  26,  15],\n",
       "           [ 34,  26,  15],\n",
       "           ...,\n",
       "           [ 28,  25,  52],\n",
       "           [ 29,  25,  58],\n",
       "           [ 23,  20,  42]],\n",
       "  \n",
       "          [[ 33,  25,  14],\n",
       "           [ 34,  26,  15],\n",
       "           [ 34,  26,  15],\n",
       "           ...,\n",
       "           [ 27,  24,  52],\n",
       "           [ 27,  24,  56],\n",
       "           [ 25,  22,  47]],\n",
       "  \n",
       "          [[ 31,  23,  12],\n",
       "           [ 32,  24,  13],\n",
       "           [ 33,  25,  14],\n",
       "           ...,\n",
       "           [ 24,  23,  50],\n",
       "           [ 26,  23,  53],\n",
       "           [ 25,  20,  47]]],\n",
       "  \n",
       "  \n",
       "         [[[ 25,  40,  12],\n",
       "           [ 15,  36,   3],\n",
       "           [ 23,  41,  18],\n",
       "           ...,\n",
       "           [ 61,  82,  78],\n",
       "           [ 92, 113, 112],\n",
       "           [ 75,  89,  92]],\n",
       "  \n",
       "          [[ 12,  25,   6],\n",
       "           [ 20,  37,   7],\n",
       "           [ 24,  36,  15],\n",
       "           ...,\n",
       "           [115, 134, 138],\n",
       "           [149, 168, 177],\n",
       "           [104, 117, 131]],\n",
       "  \n",
       "          [[ 12,  25,  11],\n",
       "           [ 15,  29,   6],\n",
       "           [ 34,  40,  24],\n",
       "           ...,\n",
       "           [154, 172, 182],\n",
       "           [157, 175, 192],\n",
       "           [116, 129, 151]],\n",
       "  \n",
       "          ...,\n",
       "  \n",
       "          [[100, 129,  81],\n",
       "           [103, 132,  84],\n",
       "           [104, 134,  86],\n",
       "           ...,\n",
       "           [ 97, 128,  84],\n",
       "           [ 98, 126,  84],\n",
       "           [ 91, 121,  79]],\n",
       "  \n",
       "          [[103, 132,  83],\n",
       "           [104, 131,  83],\n",
       "           [107, 135,  87],\n",
       "           ...,\n",
       "           [101, 132,  87],\n",
       "           [ 99, 127,  84],\n",
       "           [ 92, 121,  79]],\n",
       "  \n",
       "          [[ 95, 126,  78],\n",
       "           [ 95, 123,  76],\n",
       "           [101, 128,  81],\n",
       "           ...,\n",
       "           [ 93, 124,  80],\n",
       "           [ 95, 123,  81],\n",
       "           [ 92, 120,  80]]],\n",
       "  \n",
       "  \n",
       "         [[[ 73,  78,  75],\n",
       "           [ 98, 103, 113],\n",
       "           [ 99, 106, 114],\n",
       "           ...,\n",
       "           [135, 150, 152],\n",
       "           [135, 149, 154],\n",
       "           [203, 215, 223]],\n",
       "  \n",
       "          [[ 69,  73,  70],\n",
       "           [ 84,  89,  97],\n",
       "           [ 68,  75,  81],\n",
       "           ...,\n",
       "           [ 85,  95,  89],\n",
       "           [ 71,  82,  80],\n",
       "           [120, 133, 135]],\n",
       "  \n",
       "          [[ 69,  73,  70],\n",
       "           [ 90,  95, 100],\n",
       "           [ 62,  71,  74],\n",
       "           ...,\n",
       "           [ 74,  81,  70],\n",
       "           [ 53,  62,  54],\n",
       "           [ 62,  74,  69]],\n",
       "  \n",
       "          ...,\n",
       "  \n",
       "          [[123, 128,  96],\n",
       "           [132, 132, 102],\n",
       "           [129, 128, 100],\n",
       "           ...,\n",
       "           [108, 107,  88],\n",
       "           [ 62,  60,  55],\n",
       "           [ 27,  27,  28]],\n",
       "  \n",
       "          [[115, 121,  91],\n",
       "           [123, 124,  95],\n",
       "           [129, 126,  99],\n",
       "           ...,\n",
       "           [115, 116,  94],\n",
       "           [ 66,  65,  59],\n",
       "           [ 27,  27,  27]],\n",
       "  \n",
       "          [[116, 120,  90],\n",
       "           [121, 122,  94],\n",
       "           [129, 128, 101],\n",
       "           ...,\n",
       "           [116, 115,  94],\n",
       "           [ 68,  65,  58],\n",
       "           [ 27,  26,  26]]]], dtype=uint8), array([[3],\n",
       "         [8],\n",
       "         [8],\n",
       "         ...,\n",
       "         [5],\n",
       "         [1],\n",
       "         [7]])))"
      ]
     },
     "execution_count": 2,
     "metadata": {
      "tags": []
     },
     "output_type": "execute_result"
    }
   ],
   "source": [
    "cifar10.load_data()"
   ]
  },
  {
   "cell_type": "markdown",
   "metadata": {
    "colab_type": "text",
    "id": "MSCsnwFiExjn"
   },
   "source": [
    "### (b) From the train and test dataset, extract the class birds. We will focus on this class, which has 6000 members."
   ]
  },
  {
   "cell_type": "code",
   "execution_count": 5,
   "metadata": {
    "colab": {},
    "colab_type": "code",
    "id": "8TDKX4hpGq1_"
   },
   "outputs": [],
   "source": [
    "#Define the train and test sets\n",
    "(x_train, y_train), (x_test, y_test) = cifar10.load_data()\n",
    "\n",
    "#Birds have the label 2, so we will index both training and test for only these\n",
    "#Test\n",
    "bird_indexes_test=np.where(y_test == 2)\n",
    "bird_indexes_test=bird_indexes_test[0]\n",
    "\n",
    "#Test\n",
    "bird_indexes_train=np.where(y_train == 2)\n",
    "bird_indexes_train=bird_indexes_train[0]\n",
    "\n",
    "#Change train and test sets to only include the birds yeet\n",
    "x_train=x_train[bird_indexes_train]\n",
    "y_train=y_train[bird_indexes_train]\n",
    "\n",
    "x_test=x_test[bird_indexes_test]\n",
    "y_test=y_test[bird_indexes_test]\n",
    "\n"
   ]
  },
  {
   "cell_type": "markdown",
   "metadata": {
    "colab_type": "text",
    "id": "0hBku1N-MXAy"
   },
   "source": [
    "### (c) Those 6000 images have 6000 x 32 x 32 pixels. Choose at least 10% of the pixels randomly. It is strongly recommended that you choose a large number or all of the pixels. You will have between P=614400 and P=6144000 pixels. Each pixel is an RGB vector with three elements."
   ]
  },
  {
   "cell_type": "code",
   "execution_count": 6,
   "metadata": {
    "colab": {
     "base_uri": "https://localhost:8080/",
     "height": 300
    },
    "colab_type": "code",
    "id": "2DcGWcgyJ0Bb",
    "outputId": "f199b722-9a34-4a42-b20d-1de1c3d4fada"
   },
   "outputs": [
    {
     "name": "stdout",
     "output_type": "stream",
     "text": [
      "Example of original image:\n"
     ]
    },
    {
     "data": {
      "text/plain": [
       "<matplotlib.image.AxesImage at 0x7f9263fb2080>"
      ]
     },
     "execution_count": 6,
     "metadata": {
      "tags": []
     },
     "output_type": "execute_result"
    },
    {
     "data": {
      "image/png": "[encoded data removed]",
      "text/plain": [
       "<Figure size 432x288 with 1 Axes>"
      ]
     },
     "metadata": {
      "needs_background": "light",
      "tags": []
     },
     "output_type": "display_data"
    }
   ],
   "source": [
    "X_data = np.concatenate((x_train,x_test))\n",
    "y_data = np.full((6000,), 2)\n",
    "\n",
    "print('Example of original image:')\n",
    "plt.imshow(X_data[7])"
   ]
  },
  {
   "cell_type": "markdown",
   "metadata": {
    "colab_type": "text",
    "id": "2Pgqr6p7b6kg"
   },
   "source": [
    "#### I have decided to choose all of the pixels"
   ]
  },
  {
   "cell_type": "markdown",
   "metadata": {
    "colab_type": "text",
    "id": "NHXkllTccFDF"
   },
   "source": [
    "### (d) Run k-means clustering on the P vectors using k=4. The centers of the clusters will be your main colors. Convert the colored images to k-color images by converting each pixel's value to the closest main color in terms of Euclidean distance. These are the outputs of your network, whose each pixel falls in one of those k classes."
   ]
  },
  {
   "cell_type": "code",
   "execution_count": 7,
   "metadata": {
    "colab": {},
    "colab_type": "code",
    "id": "ySvpeY9MZV0u"
   },
   "outputs": [],
   "source": [
    "# reshape to correct dimensions\n",
    "X_data_r = X_data.reshape(-1, 3)\n",
    "k_means = KMeans(n_clusters=4, random_state=7, n_init=10).fit(X_data_r)\n",
    "colors = k_means.cluster_centers_\n",
    "y_pred = k_means.labels_"
   ]
  },
  {
   "cell_type": "code",
   "execution_count": 8,
   "metadata": {
    "colab": {
     "base_uri": "https://localhost:8080/",
     "height": 300
    },
    "colab_type": "code",
    "id": "4kBKxorIdUMu",
    "outputId": "7196a7c9-268b-4e74-c2a4-dd63ccd3b65b"
   },
   "outputs": [
    {
     "name": "stdout",
     "output_type": "stream",
     "text": [
      "Example of converted pic:\n"
     ]
    },
    {
     "data": {
      "text/plain": [
       "<matplotlib.image.AxesImage at 0x7f9263b0e7f0>"
      ]
     },
     "execution_count": 8,
     "metadata": {
      "tags": []
     },
     "output_type": "execute_result"
    },
    {
     "data": {
      "image/png": "[encoded data removed]",
      "text/plain": [
       "<Figure size 432x288 with 1 Axes>"
      ]
     },
     "metadata": {
      "needs_background": "light",
      "tags": []
     },
     "output_type": "display_data"
    }
   ],
   "source": [
    "X_convert = np.array(\n",
    "        [colors[y_pred[i]] for i in range(len(X_data_r))], dtype=np.uint8\n",
    ").reshape(-1, 32, 32, 3)\n",
    "\n",
    "print('Example of converted pic:')\n",
    "plt.imshow(X_convert[7])"
   ]
  },
  {
   "cell_type": "markdown",
   "metadata": {
    "colab_type": "text",
    "id": "BWAKxpY3eQq-"
   },
   "source": [
    "### (e) Use any tool (e.g., openCV or scikit-learn) to obtain grayscale 32 x 32 x 1 images from the original 32 x 32 x 3 images. The grayscale images are inputs of your network."
   ]
  },
  {
   "cell_type": "markdown",
   "metadata": {
    "colab_type": "text",
    "id": "x3CvznZofCT5"
   },
   "source": [
    "#### After some research, I've decided to use sklearn's image.color module. More information on this module can be found here: https://scikit-image.org/docs/dev/api/skimage.color.html"
   ]
  },
  {
   "cell_type": "code",
   "execution_count": 9,
   "metadata": {
    "colab": {
     "base_uri": "https://localhost:8080/",
     "height": 300
    },
    "colab_type": "code",
    "id": "H_ypgeQGd9Bz",
    "outputId": "7e763fcc-f020-407d-9f03-f661cd8792a8"
   },
   "outputs": [
    {
     "name": "stdout",
     "output_type": "stream",
     "text": [
      "Here is the grayscale image:\n"
     ]
    },
    {
     "data": {
      "text/plain": [
       "<matplotlib.image.AxesImage at 0x7f92612b5898>"
      ]
     },
     "execution_count": 9,
     "metadata": {
      "tags": []
     },
     "output_type": "execute_result"
    },
    {
     "data": {
      "image/png": "[encoded data removed]",
      "text/plain": [
       "<Figure size 432x288 with 1 Axes>"
      ]
     },
     "metadata": {
      "needs_background": "light",
      "tags": []
     },
     "output_type": "display_data"
    }
   ],
   "source": [
    "X_grayscale = np.array([rgb2gray(X_data[i]) for i in range(len(X_data))])\n",
    "print('Here is the grayscale image:')\n",
    "plt.imshow(X_grayscale[7], cmap=plt.cm.gray)"
   ]
  },
  {
   "cell_type": "markdown",
   "metadata": {
    "colab_type": "text",
    "id": "LAyYUVoBfseM"
   },
   "source": [
    "### (f) Set up a deep convolutional neural network with two convolution layers (or more) and two (or more) MLP layers. Use 5 x 5 filters and a softmax output layer. Determine the number of filters, strides, and whether or not to use padding yourself. Use a minimum of one max pooling layer. Use a classification scheme, which means your output must determine one of the k=4 color classes for each pixel in your grayscale image...Report the train and test errors and visually compare the aritificially colored version of the first 10 images in the test set with the original images."
   ]
  },
  {
   "cell_type": "code",
   "execution_count": 10,
   "metadata": {
    "colab": {},
    "colab_type": "code",
    "id": "VepdPWwQfpw3"
   },
   "outputs": [],
   "source": [
    "#One Hot Encode\n",
    "one_hot = OneHotEncoder(handle_unknown='ignore')\n",
    "one_hot_sample=[[0],[1],[2],[3]]\n",
    "one_hot.fit(one_hot_sample)\n",
    "\n",
    "#Transform\n",
    "y_OH = one_hot.transform(y_pred.reshape(-1, 1)).toarray().astype(int).reshape(-1, 32, 32, 4)\n",
    "X_train_g, X_test_g, y_train_g, y_test_g = train_test_split(X_grayscale.reshape(-1, 32, 32, 1), y_OH, test_size=0.1, random_state=7)"
   ]
  },
  {
   "cell_type": "code",
   "execution_count": 13,
   "metadata": {
    "colab": {
     "base_uri": "https://localhost:8080/",
     "height": 357
    },
    "colab_type": "code",
    "id": "VjVjVGUyolMW",
    "outputId": "7c3ff421-c295-47f4-e805-22eab78da7e8"
   },
   "outputs": [
    {
     "name": "stdout",
     "output_type": "stream",
     "text": [
      "Model: \"sequential_2\"\n",
      "_________________________________________________________________\n",
      "Layer (type)                 Output Shape              Param #   \n",
      "=================================================================\n",
      "conv2d_3 (Conv2D)            (None, 32, 32, 64)        1664      \n",
      "_________________________________________________________________\n",
      "max_pooling2d_3 (MaxPooling2 (None, 32, 32, 64)        0         \n",
      "_________________________________________________________________\n",
      "conv2d_4 (Conv2D)            (None, 32, 32, 64)        102464    \n",
      "_________________________________________________________________\n",
      "max_pooling2d_4 (MaxPooling2 (None, 32, 32, 64)        0         \n",
      "_________________________________________________________________\n",
      "dense_3 (Dense)              (None, 32, 32, 4096)      266240    \n",
      "_________________________________________________________________\n",
      "dense_4 (Dense)              (None, 32, 32, 4)         16388     \n",
      "=================================================================\n",
      "Total params: 386,756\n",
      "Trainable params: 386,756\n",
      "Non-trainable params: 0\n",
      "_________________________________________________________________\n"
     ]
    }
   ],
   "source": [
    "#Create the model\n",
    "#2 convolution layers\n",
    "#2 MLP Layers\n",
    "#5x5 filters\n",
    "#softmax output layer\n",
    "#max pooling layer\n",
    "#5 Epochs\n",
    "\n",
    "model = keras.models.Sequential([\n",
    "    keras.layers.Conv2D(filters=64, kernel_size=(5,5), strides=(1, 1), \n",
    "                        padding='same', input_shape=(32,32,1)),\n",
    "    keras.layers.MaxPooling2D(pool_size=(2, 2), strides=(1, 1), padding='same'),\n",
    "    keras.layers.Conv2D(filters=64, kernel_size=(5,5), strides=(1, 1), \n",
    "                        padding='same', activation='relu'),\n",
    "    keras.layers.MaxPooling2D(pool_size=(2, 2), strides=(1, 1), padding='same'),\n",
    "    keras.layers.Dense(4096, activation=\"softmax\"),\n",
    "    keras.layers.Dense(4, activation=\"softmax\")\n",
    "])\n",
    "\n",
    "model.summary()"
   ]
  },
  {
   "cell_type": "code",
   "execution_count": 40,
   "metadata": {
    "colab": {
     "base_uri": "https://localhost:8080/",
     "height": 1000
    },
    "colab_type": "code",
    "id": "pGGH8qHspu3f",
    "outputId": "86b2a0df-3b43-458c-e353-f1f125009d94"
   },
   "outputs": [
    {
     "name": "stdout",
     "output_type": "stream",
     "text": [
      "Train on 5400 samples, validate on 600 samples\n",
      "Epoch 1/30\n",
      "5400/5400 [==============================] - 58s 11ms/step - loss: 1.3710 - accuracy: 0.3354 - val_loss: 1.3717 - val_accuracy: 0.3268\n",
      "Epoch 2/30\n",
      "5400/5400 [==============================] - 57s 11ms/step - loss: 1.3689 - accuracy: 0.3354 - val_loss: 1.3700 - val_accuracy: 0.3268\n",
      "Epoch 3/30\n",
      "5400/5400 [==============================] - 57s 11ms/step - loss: 1.3669 - accuracy: 0.3354 - val_loss: 1.3684 - val_accuracy: 0.3268\n",
      "Epoch 4/30\n",
      "5400/5400 [==============================] - 57s 11ms/step - loss: 1.3651 - accuracy: 0.3354 - val_loss: 1.3669 - val_accuracy: 0.3268\n",
      "Epoch 5/30\n",
      "5400/5400 [==============================] - 57s 11ms/step - loss: 1.3635 - accuracy: 0.3354 - val_loss: 1.3656 - val_accuracy: 0.3268\n",
      "Epoch 6/30\n",
      "5400/5400 [==============================] - 57s 11ms/step - loss: 1.3620 - accuracy: 0.3354 - val_loss: 1.3643 - val_accuracy: 0.3268\n",
      "Epoch 7/30\n",
      "5400/5400 [==============================] - 57s 11ms/step - loss: 1.3606 - accuracy: 0.3354 - val_loss: 1.3632 - val_accuracy: 0.3268\n",
      "Epoch 8/30\n",
      "5400/5400 [==============================] - 57s 11ms/step - loss: 1.3593 - accuracy: 0.3354 - val_loss: 1.3622 - val_accuracy: 0.3268\n",
      "Epoch 9/30\n",
      "5400/5400 [==============================] - 57s 11ms/step - loss: 1.3581 - accuracy: 0.3354 - val_loss: 1.3613 - val_accuracy: 0.3268\n",
      "Epoch 10/30\n",
      "5400/5400 [==============================] - 57s 11ms/step - loss: 1.3571 - accuracy: 0.3354 - val_loss: 1.3604 - val_accuracy: 0.3268\n",
      "Epoch 11/30\n",
      "5400/5400 [==============================] - 57s 11ms/step - loss: 1.3561 - accuracy: 0.3354 - val_loss: 1.3596 - val_accuracy: 0.3268\n",
      "Epoch 12/30\n",
      "5400/5400 [==============================] - 57s 11ms/step - loss: 1.3551 - accuracy: 0.3354 - val_loss: 1.3589 - val_accuracy: 0.3268\n",
      "Epoch 13/30\n",
      "5400/5400 [==============================] - 57s 11ms/step - loss: 1.3543 - accuracy: 0.3354 - val_loss: 1.3583 - val_accuracy: 0.3268\n",
      "Epoch 14/30\n",
      "5400/5400 [==============================] - 57s 11ms/step - loss: 1.3535 - accuracy: 0.3354 - val_loss: 1.3577 - val_accuracy: 0.3268\n",
      "Epoch 15/30\n",
      "5400/5400 [==============================] - 57s 11ms/step - loss: 1.3528 - accuracy: 0.3354 - val_loss: 1.3571 - val_accuracy: 0.3268\n",
      "Epoch 16/30\n",
      "5400/5400 [==============================] - 57s 11ms/step - loss: 1.3521 - accuracy: 0.3354 - val_loss: 1.3566 - val_accuracy: 0.3268\n",
      "Epoch 17/30\n",
      "5400/5400 [==============================] - 57s 11ms/step - loss: 1.3515 - accuracy: 0.3354 - val_loss: 1.3562 - val_accuracy: 0.3268\n",
      "Epoch 18/30\n",
      "5400/5400 [==============================] - 57s 11ms/step - loss: 1.3509 - accuracy: 0.3354 - val_loss: 1.3558 - val_accuracy: 0.3268\n",
      "Epoch 19/30\n",
      "5400/5400 [==============================] - 57s 11ms/step - loss: 1.3504 - accuracy: 0.3354 - val_loss: 1.3554 - val_accuracy: 0.3268\n",
      "Epoch 20/30\n",
      "5400/5400 [==============================] - 57s 11ms/step - loss: 1.3499 - accuracy: 0.3354 - val_loss: 1.3551 - val_accuracy: 0.3268\n",
      "Epoch 21/30\n",
      "5400/5400 [==============================] - 57s 11ms/step - loss: 1.3495 - accuracy: 0.3354 - val_loss: 1.3548 - val_accuracy: 0.3268\n",
      "Epoch 22/30\n",
      "5400/5400 [==============================] - 57s 11ms/step - loss: 1.3490 - accuracy: 0.3354 - val_loss: 1.3545 - val_accuracy: 0.3268\n",
      "Epoch 23/30\n",
      "5400/5400 [==============================] - 57s 11ms/step - loss: 1.3487 - accuracy: 0.3354 - val_loss: 1.3542 - val_accuracy: 0.3268\n",
      "Epoch 24/30\n",
      "5400/5400 [==============================] - 57s 11ms/step - loss: 1.3483 - accuracy: 0.3354 - val_loss: 1.3540 - val_accuracy: 0.3268\n",
      "Epoch 25/30\n",
      "5400/5400 [==============================] - 57s 11ms/step - loss: 1.3480 - accuracy: 0.3354 - val_loss: 1.3538 - val_accuracy: 0.3268\n",
      "Epoch 26/30\n",
      "5400/5400 [==============================] - 57s 11ms/step - loss: 1.3477 - accuracy: 0.3354 - val_loss: 1.3536 - val_accuracy: 0.3268\n",
      "Epoch 27/30\n",
      "5400/5400 [==============================] - 57s 11ms/step - loss: 1.3474 - accuracy: 0.3354 - val_loss: 1.3534 - val_accuracy: 0.3268\n",
      "Epoch 28/30\n",
      "5400/5400 [==============================] - 57s 11ms/step - loss: 1.3471 - accuracy: 0.3354 - val_loss: 1.3533 - val_accuracy: 0.3268\n",
      "Epoch 29/30\n",
      "5400/5400 [==============================] - 57s 11ms/step - loss: 1.3469 - accuracy: 0.3354 - val_loss: 1.3531 - val_accuracy: 0.3268\n",
      "Epoch 30/30\n",
      "5400/5400 [==============================] - 57s 11ms/step - loss: 1.3467 - accuracy: 0.3354 - val_loss: 1.3530 - val_accuracy: 0.3268\n"
     ]
    }
   ],
   "source": [
    "#Compile and fit the model\n",
    "from google.colab import files\n",
    "#files.download('filename.csv')\n",
    "\n",
    "\n",
    "#30 epochs\n",
    "epochs=30\n",
    "\n",
    "#output file location\n",
    "#output = \"./content/\"\n",
    "model_save_name = 'cnn_q2.hdf5'\n",
    "checkpoint = F\"/content//{model_save_name}\" \n",
    "#torch.save(model.state_dict(), path)\n",
    "\n",
    "model.compile(optimizer=keras.optimizers.SGD(0.001), metrics=[\"accuracy\"], loss='categorical_crossentropy')\n",
    "\n",
    "#checkpoint = os.path.join(output, 'cnn_q2.hdf5')\n",
    "checkpoint_callback = keras.callbacks.ModelCheckpoint(\n",
    "    filepath = checkpoint,\n",
    "    save_weights_only= True\n",
    ")\n",
    "earlyStop = keras.callbacks.EarlyStopping(patience = 5, min_delta = 1e-4)\n",
    "\n",
    "model_run = model.fit(X_train_g, y_train_g, epochs=epochs, \n",
    "                    validation_data=(X_test_g, y_test_g), \n",
    "                    callbacks=[checkpoint_callback, earlyStop])"
   ]
  },
  {
   "cell_type": "code",
   "execution_count": 41,
   "metadata": {
    "colab": {
     "base_uri": "https://localhost:8080/",
     "height": 979
    },
    "colab_type": "code",
    "id": "Q_9kR03558H9",
    "outputId": "1fb1dab4-60aa-47be-dc6d-f07aad50d5e8"
   },
   "outputs": [
    {
     "data": {
      "text/html": [
       "<div>\n",
       "<style scoped>\n",
       "    .dataframe tbody tr th:only-of-type {\n",
       "        vertical-align: middle;\n",
       "    }\n",
       "\n",
       "    .dataframe tbody tr th {\n",
       "        vertical-align: top;\n",
       "    }\n",
       "\n",
       "    .dataframe thead th {\n",
       "        text-align: right;\n",
       "    }\n",
       "</style>\n",
       "<table border=\"1\" class=\"dataframe\">\n",
       "  <thead>\n",
       "    <tr style=\"text-align: right;\">\n",
       "      <th></th>\n",
       "      <th>Epoch_Number</th>\n",
       "      <th>Test_Error</th>\n",
       "      <th>Train_Error</th>\n",
       "    </tr>\n",
       "  </thead>\n",
       "  <tbody>\n",
       "    <tr>\n",
       "      <th>0</th>\n",
       "      <td>1</td>\n",
       "      <td>1.371719</td>\n",
       "      <td>1.370972</td>\n",
       "    </tr>\n",
       "    <tr>\n",
       "      <th>1</th>\n",
       "      <td>2</td>\n",
       "      <td>1.369965</td>\n",
       "      <td>1.368867</td>\n",
       "    </tr>\n",
       "    <tr>\n",
       "      <th>2</th>\n",
       "      <td>3</td>\n",
       "      <td>1.368363</td>\n",
       "      <td>1.366930</td>\n",
       "    </tr>\n",
       "    <tr>\n",
       "      <th>3</th>\n",
       "      <td>4</td>\n",
       "      <td>1.366896</td>\n",
       "      <td>1.365149</td>\n",
       "    </tr>\n",
       "    <tr>\n",
       "      <th>4</th>\n",
       "      <td>5</td>\n",
       "      <td>1.365558</td>\n",
       "      <td>1.363508</td>\n",
       "    </tr>\n",
       "    <tr>\n",
       "      <th>5</th>\n",
       "      <td>6</td>\n",
       "      <td>1.364335</td>\n",
       "      <td>1.362001</td>\n",
       "    </tr>\n",
       "    <tr>\n",
       "      <th>6</th>\n",
       "      <td>7</td>\n",
       "      <td>1.363215</td>\n",
       "      <td>1.360611</td>\n",
       "    </tr>\n",
       "    <tr>\n",
       "      <th>7</th>\n",
       "      <td>8</td>\n",
       "      <td>1.362192</td>\n",
       "      <td>1.359329</td>\n",
       "    </tr>\n",
       "    <tr>\n",
       "      <th>8</th>\n",
       "      <td>9</td>\n",
       "      <td>1.361258</td>\n",
       "      <td>1.358150</td>\n",
       "    </tr>\n",
       "    <tr>\n",
       "      <th>9</th>\n",
       "      <td>10</td>\n",
       "      <td>1.360407</td>\n",
       "      <td>1.357063</td>\n",
       "    </tr>\n",
       "    <tr>\n",
       "      <th>10</th>\n",
       "      <td>11</td>\n",
       "      <td>1.359629</td>\n",
       "      <td>1.356063</td>\n",
       "    </tr>\n",
       "    <tr>\n",
       "      <th>11</th>\n",
       "      <td>12</td>\n",
       "      <td>1.358919</td>\n",
       "      <td>1.355141</td>\n",
       "    </tr>\n",
       "    <tr>\n",
       "      <th>12</th>\n",
       "      <td>13</td>\n",
       "      <td>1.358268</td>\n",
       "      <td>1.354290</td>\n",
       "    </tr>\n",
       "    <tr>\n",
       "      <th>13</th>\n",
       "      <td>14</td>\n",
       "      <td>1.357676</td>\n",
       "      <td>1.353504</td>\n",
       "    </tr>\n",
       "    <tr>\n",
       "      <th>14</th>\n",
       "      <td>15</td>\n",
       "      <td>1.357136</td>\n",
       "      <td>1.352780</td>\n",
       "    </tr>\n",
       "    <tr>\n",
       "      <th>15</th>\n",
       "      <td>16</td>\n",
       "      <td>1.356643</td>\n",
       "      <td>1.352112</td>\n",
       "    </tr>\n",
       "    <tr>\n",
       "      <th>16</th>\n",
       "      <td>17</td>\n",
       "      <td>1.356193</td>\n",
       "      <td>1.351495</td>\n",
       "    </tr>\n",
       "    <tr>\n",
       "      <th>17</th>\n",
       "      <td>18</td>\n",
       "      <td>1.355783</td>\n",
       "      <td>1.350925</td>\n",
       "    </tr>\n",
       "    <tr>\n",
       "      <th>18</th>\n",
       "      <td>19</td>\n",
       "      <td>1.355409</td>\n",
       "      <td>1.350399</td>\n",
       "    </tr>\n",
       "    <tr>\n",
       "      <th>19</th>\n",
       "      <td>20</td>\n",
       "      <td>1.355069</td>\n",
       "      <td>1.349912</td>\n",
       "    </tr>\n",
       "    <tr>\n",
       "      <th>20</th>\n",
       "      <td>21</td>\n",
       "      <td>1.354759</td>\n",
       "      <td>1.349464</td>\n",
       "    </tr>\n",
       "    <tr>\n",
       "      <th>21</th>\n",
       "      <td>22</td>\n",
       "      <td>1.354477</td>\n",
       "      <td>1.349048</td>\n",
       "    </tr>\n",
       "    <tr>\n",
       "      <th>22</th>\n",
       "      <td>23</td>\n",
       "      <td>1.354220</td>\n",
       "      <td>1.348664</td>\n",
       "    </tr>\n",
       "    <tr>\n",
       "      <th>23</th>\n",
       "      <td>24</td>\n",
       "      <td>1.353987</td>\n",
       "      <td>1.348308</td>\n",
       "    </tr>\n",
       "    <tr>\n",
       "      <th>24</th>\n",
       "      <td>25</td>\n",
       "      <td>1.353775</td>\n",
       "      <td>1.347980</td>\n",
       "    </tr>\n",
       "    <tr>\n",
       "      <th>25</th>\n",
       "      <td>26</td>\n",
       "      <td>1.353583</td>\n",
       "      <td>1.347676</td>\n",
       "    </tr>\n",
       "    <tr>\n",
       "      <th>26</th>\n",
       "      <td>27</td>\n",
       "      <td>1.353408</td>\n",
       "      <td>1.347395</td>\n",
       "    </tr>\n",
       "    <tr>\n",
       "      <th>27</th>\n",
       "      <td>28</td>\n",
       "      <td>1.353250</td>\n",
       "      <td>1.347134</td>\n",
       "    </tr>\n",
       "    <tr>\n",
       "      <th>28</th>\n",
       "      <td>29</td>\n",
       "      <td>1.353107</td>\n",
       "      <td>1.346892</td>\n",
       "    </tr>\n",
       "    <tr>\n",
       "      <th>29</th>\n",
       "      <td>30</td>\n",
       "      <td>1.352978</td>\n",
       "      <td>1.346669</td>\n",
       "    </tr>\n",
       "  </tbody>\n",
       "</table>\n",
       "</div>"
      ],
      "text/plain": [
       "    Epoch_Number  Test_Error  Train_Error\n",
       "0              1    1.371719     1.370972\n",
       "1              2    1.369965     1.368867\n",
       "2              3    1.368363     1.366930\n",
       "3              4    1.366896     1.365149\n",
       "4              5    1.365558     1.363508\n",
       "5              6    1.364335     1.362001\n",
       "6              7    1.363215     1.360611\n",
       "7              8    1.362192     1.359329\n",
       "8              9    1.361258     1.358150\n",
       "9             10    1.360407     1.357063\n",
       "10            11    1.359629     1.356063\n",
       "11            12    1.358919     1.355141\n",
       "12            13    1.358268     1.354290\n",
       "13            14    1.357676     1.353504\n",
       "14            15    1.357136     1.352780\n",
       "15            16    1.356643     1.352112\n",
       "16            17    1.356193     1.351495\n",
       "17            18    1.355783     1.350925\n",
       "18            19    1.355409     1.350399\n",
       "19            20    1.355069     1.349912\n",
       "20            21    1.354759     1.349464\n",
       "21            22    1.354477     1.349048\n",
       "22            23    1.354220     1.348664\n",
       "23            24    1.353987     1.348308\n",
       "24            25    1.353775     1.347980\n",
       "25            26    1.353583     1.347676\n",
       "26            27    1.353408     1.347395\n",
       "27            28    1.353250     1.347134\n",
       "28            29    1.353107     1.346892\n",
       "29            30    1.352978     1.346669"
      ]
     },
     "execution_count": 41,
     "metadata": {
      "tags": []
     },
     "output_type": "execute_result"
    }
   ],
   "source": [
    "errs={'Epoch_Number':np.arange(1,31,1),'Test_Error':model_run.history['val_loss'],'Train_Error':model_run.history['loss']}\n",
    "errs=pd.DataFrame(errs)\n",
    "errs"
   ]
  },
  {
   "cell_type": "code",
   "execution_count": 42,
   "metadata": {
    "colab": {
     "base_uri": "https://localhost:8080/",
     "height": 295
    },
    "colab_type": "code",
    "id": "Jdq9ipCd7fY8",
    "outputId": "15cc0fc9-c578-4bdd-d3df-e36bc6e0fe26"
   },
   "outputs": [
    {
     "data": {
      "image/png": "[encoded data removed]",
      "text/plain": [
       "<Figure size 432x288 with 1 Axes>"
      ]
     },
     "metadata": {
      "needs_background": "light",
      "tags": []
     },
     "output_type": "display_data"
    }
   ],
   "source": [
    "#Plot Errors in Each epoch\n",
    "plt.plot(model_run.history['loss'])\n",
    "plt.plot(model_run.history['val_loss'])\n",
    "plt.gca()\n",
    "plt.title('Train and Test Errors vs. Epoch')\n",
    "plt.xlabel('Epoch')\n",
    "plt.ylabel('Error')\n",
    "plt.legend(['Train Error', 'Test Error'], loc='upper right')\n",
    "plt.grid(True)\n",
    "plt.show()"
   ]
  },
  {
   "cell_type": "code",
   "execution_count": 43,
   "metadata": {
    "colab": {},
    "colab_type": "code",
    "id": "n6uOApSo7rCx"
   },
   "outputs": [],
   "source": [
    "#Predict and Reshape\n",
    "y_pred_colored = model.predict(X_test_g)\n",
    "y_pred_colored = y_pred_colored.reshape(X_test_g.shape[0] * 32 * 32, 4)\n",
    "images = []\n",
    "for i in range(len(y_pred_colored)):\n",
    "    images.append([int(color) for color in colors[np.argmax(y_pred_colored[i])]])\n",
    "    \n",
    "y_test_reshaped = y_test_g.reshape(X_test_g.shape[0] * 32 * 32, 4)\n",
    "y_test_k_color = []\n",
    "for k in range(len(y_test_reshaped)):\n",
    "    y_test_k_color.append([int(color) for color in colors[np.argmax(y_test_reshaped[k])]])\n",
    "images = np.reshape(images, (-1, 32, 32, 3))\n",
    "y_test_k_color = np.reshape(y_test_k_color, (-1, 32, 32, 3))\n"
   ]
  },
  {
   "cell_type": "code",
   "execution_count": 45,
   "metadata": {
    "colab": {
     "base_uri": "https://localhost:8080/",
     "height": 1000
    },
    "colab_type": "code",
    "id": "Q6vll8l1_FfT",
    "outputId": "cfa74693-aa35-4f09-da82-5cc11e80f45e"
   },
   "outputs": [
    {
     "data": {
      "image/png": "[encoded data removed]",
      "text/plain": [
       "<Figure size 648x1800 with 20 Axes>"
      ]
     },
     "metadata": {
      "needs_background": "light",
      "tags": []
     },
     "output_type": "display_data"
    }
   ],
   "source": [
    "#Plots\n",
    "fig, axes = plt.subplots(10, 2, figsize=(9, 25))\n",
    "ax = axes.ravel()\n",
    "\n",
    "ax[0].imshow(y_test_k_color[1])\n",
    "ax[1].imshow(X_test_g.reshape(-1,32,32)[1], cmap=plt.cm.gray)\n",
    "\n",
    "ax[2].imshow(y_test_k_color[2])\n",
    "ax[3].imshow(X_test_g.reshape(-1,32,32)[2], cmap=plt.cm.gray)\n",
    "\n",
    "ax[4].imshow(y_test_k_color[3])\n",
    "ax[5].imshow(X_test_g.reshape(-1,32,32)[3], cmap=plt.cm.gray)\n",
    "\n",
    "ax[6].imshow(y_test_k_color[4])\n",
    "ax[7].imshow(X_test_g.reshape(-1,32,32)[4], cmap=plt.cm.gray)\n",
    "\n",
    "ax[8].imshow(y_test_k_color[5])\n",
    "ax[9].imshow(X_test_g.reshape(-1,32,32)[5], cmap=plt.cm.gray)\n",
    "\n",
    "ax[10].imshow(y_test_k_color[6])\n",
    "ax[11].imshow(X_test_g.reshape(-1,32,32)[6], cmap=plt.cm.gray)\n",
    "\n",
    "ax[12].imshow(y_test_k_color[7])\n",
    "ax[13].imshow(X_test_g.reshape(-1,32,32)[7], cmap=plt.cm.gray)\n",
    "\n",
    "ax[14].imshow(y_test_k_color[8])\n",
    "ax[15].imshow(X_test_g.reshape(-1,32,32)[8], cmap=plt.cm.gray)\n",
    "\n",
    "ax[16].imshow(y_test_k_color[9])\n",
    "ax[17].imshow(X_test_g.reshape(-1,32,32)[9], cmap=plt.cm.gray)\n",
    "\n",
    "ax[18].imshow(y_test_k_color[10])\n",
    "ax[19].imshow(X_test_g.reshape(-1,32,32)[10], cmap=plt.cm.gray)\n",
    "\n",
    "ax[0].set_title(\"Colored\")\n",
    "ax[1].set_title(\"Original GrayScale\")\n",
    "\n",
    "fig.tight_layout()\n",
    "plt.show()"
   ]
  },
  {
   "cell_type": "code",
   "execution_count": null,
   "metadata": {},
   "outputs": [],
   "source": []
  }
 ],
 "metadata": {
  "accelerator": "GPU",
  "colab": {
   "collapsed_sections": [],
   "name": "Luke_Nelson_5281493709_H47.ipynb",
   "provenance": []
  },
  "kernelspec": {
   "display_name": "Python 3",
   "language": "python",
   "name": "python3"
  },
  "language_info": {
   "codemirror_mode": {
    "name": "ipython",
    "version": 3
   },
   "file_extension": ".py",
   "mimetype": "text/x-python",
   "name": "python",
   "nbconvert_exporter": "python",
   "pygments_lexer": "ipython3",
   "version": "3.6.4"
  }
 },
 "nbformat": 4,
 "nbformat_minor": 1
}
